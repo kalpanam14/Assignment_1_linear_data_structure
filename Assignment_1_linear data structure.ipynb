{
 "cells": [
  {
   "cell_type": "code",
   "execution_count": 1,
   "id": "43385240",
   "metadata": {},
   "outputs": [
    {
     "name": "stdout",
     "output_type": "stream",
     "text": [
      "Initial configuration:\n",
      "Final configuration:\n",
      "Rod A: [3, 2, 1]\n",
      "Rod B: []\n",
      "Rod C: []\n",
      "\n",
      "Rod A: [3, 2]\n",
      "Rod B: []\n",
      "Rod C: [1]\n",
      "\n",
      "Rod A: [3]\n",
      "Rod B: [2]\n",
      "Rod C: [1]\n",
      "\n",
      "Rod A: [3]\n",
      "Rod B: [2, 1]\n",
      "Rod C: []\n",
      "\n",
      "Rod A: []\n",
      "Rod B: [2, 1]\n",
      "Rod C: [3]\n",
      "\n",
      "Rod A: [1]\n",
      "Rod B: [2]\n",
      "Rod C: [3]\n",
      "\n",
      "Rod A: [1]\n",
      "Rod B: []\n",
      "Rod C: [3, 2]\n",
      "\n",
      "Rod A: []\n",
      "Rod B: []\n",
      "Rod C: [3, 2, 1]\n",
      "\n",
      "Rod A: []\n",
      "Rod B: []\n",
      "Rod C: [3, 2, 1]\n",
      "\n",
      "Total moves: 7\n"
     ]
    }
   ],
   "source": [
    "#Read about the Tower of Hanoi algorithm. Write a program to implement it\n",
    "num_disks = 3\n",
    "source_rod = \"A\"\n",
    "destination_rod = \"C\"\n",
    "auxiliary_rod = \"B\"\n",
    "\n",
    "# Create a stack to represent each rod\n",
    "rods = [[], [], []]\n",
    "\n",
    "# Initialize the source rod with the disks\n",
    "for i in range(num_disks, 0, -1):\n",
    "    rods[0].append(i)\n",
    "\n",
    "# Initialize move counter\n",
    "moves = 0\n",
    "\n",
    "# List to store the output\n",
    "output = []\n",
    "\n",
    "# Helper function to print the current configuration of the rods\n",
    "def print_rods():\n",
    "    current_config = [f\"Rod {chr(ord('A')+i)}: {rods[i]}\" for i in range(3)]\n",
    "    output.append(current_config)\n",
    "\n",
    "# Recursive function to move disks\n",
    "def move_disks(n, from_rod, to_rod, aux_rod):\n",
    "    global moves\n",
    "    if n > 0:\n",
    "        # Move n-1 disks from source to auxiliary rod\n",
    "        move_disks(n - 1, from_rod, aux_rod, to_rod)\n",
    "\n",
    "        # Move the nth disk from source to destination rod\n",
    "        disk = rods[from_rod].pop()\n",
    "        rods[to_rod].append(disk)\n",
    "        moves += 1\n",
    "\n",
    "        # Print the current configuration of the rods\n",
    "        print_rods()\n",
    "\n",
    "        # Move the n-1 disks from auxiliary to destination rod\n",
    "        move_disks(n - 1, aux_rod, to_rod, from_rod)\n",
    "\n",
    "# Print the initial configuration of the rods\n",
    "print(\"Initial configuration:\")\n",
    "print_rods()\n",
    "\n",
    "# Perform the Tower of Hanoi algorithm\n",
    "move_disks(num_disks, 0, 2, 1)\n",
    "\n",
    "# Print the final configuration of the rods\n",
    "print(\"Final configuration:\")\n",
    "print_rods()\n",
    "\n",
    "# Print the output\n",
    "for config in output:\n",
    "    for rod in config:\n",
    "        print(rod)\n",
    "    print()\n",
    "\n",
    "print(\"Total moves:\", moves)"
   ]
  },
  {
   "cell_type": "code",
   "execution_count": 2,
   "id": "0c4c3219",
   "metadata": {},
   "outputs": [
    {
     "name": "stdout",
     "output_type": "stream",
     "text": [
      "Prefix expression: + 2 * 3 4\n"
     ]
    }
   ],
   "source": [
    "#Read about infix, prefix, and postfix expressions. Write a program to convert postfix to prefix expression\n",
    "postfix_expression = \"2 3 4 * +\"\n",
    "\n",
    "stack = []\n",
    "\n",
    "# Iterate through the postfix expression\n",
    "for token in postfix_expression.split():\n",
    "    if token.isdigit():\n",
    "        # Operand: Push onto the stack\n",
    "        stack.append(token)\n",
    "    else:\n",
    "        # Operator: Pop two operands from the stack, create prefix expression, and push back onto the stack\n",
    "        operand2 = stack.pop()\n",
    "        operand1 = stack.pop()\n",
    "        prefix_expression = token + \" \" + operand1 + \" \" + operand2\n",
    "        stack.append(prefix_expression)\n",
    "\n",
    "# The final expression in the stack is the prefix expression\n",
    "prefix_expression = stack.pop()\n",
    "\n",
    "print(\"Prefix expression:\", prefix_expression)"
   ]
  },
  {
   "cell_type": "code",
   "execution_count": 3,
   "id": "4bdba297",
   "metadata": {},
   "outputs": [
    {
     "name": "stdout",
     "output_type": "stream",
     "text": [
      "Infix expression: ((2 * 3) + 4)\n"
     ]
    }
   ],
   "source": [
    "#Write a program to convert prefix expression to infix expression.\n",
    "prefix_expression = \"+ * 2 3 4\"\n",
    "\n",
    "stack = []\n",
    "\n",
    "# Iterate through the prefix expression in reverse order\n",
    "for token in reversed(prefix_expression.split()):\n",
    "    if token.isdigit():\n",
    "        # Operand: Push onto the stack\n",
    "        stack.append(token)\n",
    "    else:\n",
    "        # Operator: Pop two operands from the stack, create infix expression, and push back onto the stack\n",
    "        operand1 = stack.pop()\n",
    "        operand2 = stack.pop()\n",
    "        infix_expression = \"(\" + operand1 + \" \" + token + \" \" + operand2 + \")\"\n",
    "        stack.append(infix_expression)\n",
    "\n",
    "# The final expression in the stack is the infix expression\n",
    "infix_expression = stack.pop()\n",
    "\n",
    "print(\"Infix expression:\", infix_expression)"
   ]
  },
  {
   "cell_type": "code",
   "execution_count": 4,
   "id": "29337ea1",
   "metadata": {},
   "outputs": [
    {
     "name": "stdout",
     "output_type": "stream",
     "text": [
      "Brackets are properly closed.\n"
     ]
    }
   ],
   "source": [
    "#Write a program to check if all the brackets are closed in a given code snippet.\n",
    "string = \"{(a + b) * [c - d]}\"\n",
    "\n",
    "stack = []\n",
    "\n",
    "# Iterate through each character in the code snippet\n",
    "for char in string:\n",
    "    if char in \"({[\":\n",
    "        # Opening bracket: Push onto the stack\n",
    "        stack.append(char)\n",
    "    elif char in \")}]\":\n",
    "        # Closing bracket: Check if the corresponding opening bracket exists on the stack\n",
    "        if len(stack) == 0:\n",
    "            # No corresponding opening bracket found, brackets are not properly closed\n",
    "            print(\"Brackets are not properly closed.\")\n",
    "            break\n",
    "        elif char == \")\" and stack[-1] == \"(\":\n",
    "            stack.pop()\n",
    "        elif char == \"}\" and stack[-1] == \"{\":\n",
    "            stack.pop()\n",
    "        elif char == \"]\" and stack[-1] == \"[\":\n",
    "            stack.pop()\n",
    "        else:\n",
    "            # Mismatched brackets found, brackets are not properly closed\n",
    "            print(\"Brackets are not properly closed.\")\n",
    "            break\n",
    "\n",
    "# If the stack is empty, all brackets are properly closed\n",
    "if len(stack) == 0:\n",
    "    print(\"Brackets are properly closed.\")\n",
    "elif len(stack) > 0:\n",
    "    print(\"Brackets are not properly closed.\")"
   ]
  },
  {
   "cell_type": "code",
   "execution_count": 12,
   "id": "420cb527",
   "metadata": {},
   "outputs": [
    {
     "name": "stdout",
     "output_type": "stream",
     "text": [
      "Original Stack: [1, 2, 3, 4]\n",
      "Reversed Stack: [1, 2, 3, 4]\n"
     ]
    }
   ],
   "source": [
    "# Define a Stack class\n",
    "class Stack:\n",
    "    def __init__(self):\n",
    "        self.items = []\n",
    "\n",
    "    def is_empty(self):\n",
    "        return len(self.items) == 0\n",
    "\n",
    "    def push(self, item):\n",
    "        self.items.append(item)\n",
    "\n",
    "    def pop(self):\n",
    "        if not self.is_empty():\n",
    "            return self.items.pop()\n",
    "\n",
    "    def peek(self):\n",
    "        if not self.is_empty():\n",
    "            return self.items[-1]\n",
    "\n",
    "    def size(self):\n",
    "        return len(self.items)\n",
    "\n",
    "\n",
    "# Function to reverse a stack\n",
    "def reverse_stack(stack):\n",
    "    if stack.is_empty():\n",
    "        return\n",
    "\n",
    "    # Remove all elements from the stack and store them in a temporary list\n",
    "    temp = []\n",
    "    while not stack.is_empty():\n",
    "        temp.append(stack.pop())\n",
    "\n",
    "    # Reverse the order of elements in the temporary list\n",
    "    temp.reverse()\n",
    "\n",
    "    # Push the elements back to the stack\n",
    "    for item in temp:\n",
    "        stack.push(item)\n",
    "\n",
    "\n",
    "# Test the program\n",
    "stack = Stack()\n",
    "stack.push(1)\n",
    "stack.push(2)\n",
    "stack.push(3)\n",
    "stack.push(4)\n",
    "\n",
    "print(\"Original Stack:\", stack.items)\n",
    "\n",
    "reverse_stack(stack)\n",
    "\n",
    "print(\"Reversed Stack:\", stack.items)"
   ]
  },
  {
   "cell_type": "code",
   "execution_count": 13,
   "id": "c67aba4f",
   "metadata": {},
   "outputs": [
    {
     "name": "stdout",
     "output_type": "stream",
     "text": [
      "Smallest number: 1\n"
     ]
    }
   ],
   "source": [
    "#Write a program to find the smallest number using a stack.\n",
    "stack = [5, 2, 8, 3, 1]  # Example stack\n",
    "\n",
    "# Initialize the smallest number with the first element in the stack\n",
    "smallest = stack[0]\n",
    "\n",
    "# Iterate through the stack to find the smallest number\n",
    "for num in stack:\n",
    "    if num < smallest:\n",
    "        smallest = num\n",
    "\n",
    "# Print the smallest number\n",
    "print(\"Smallest number:\", smallest)"
   ]
  },
  {
   "cell_type": "code",
   "execution_count": 14,
   "id": "3a4a948c",
   "metadata": {},
   "outputs": [
    {
     "name": "stdout",
     "output_type": "stream",
     "text": [
      "Smallest number: 1\n"
     ]
    }
   ],
   "source": [
    "#Write a program to find the smallest number using a stack.\n",
    "stack = [5, 2, 8, 3, 1]  # Example stack\n",
    "\n",
    "# Initialize the smallest number with the first element in the stack\n",
    "smallest = stack[0]\n",
    "\n",
    "# Iterate through the stack to find the smallest number\n",
    "for num in stack:\n",
    "    if num < smallest:\n",
    "        smallest = num\n",
    "\n",
    "# Print the smallest number\n",
    "print(\"Smallest number:\", smallest)"
   ]
  },
  {
   "cell_type": "code",
   "execution_count": 9,
   "id": "abbc5530",
   "metadata": {},
   "outputs": [
    {
     "name": "stdout",
     "output_type": "stream",
     "text": [
      "Reversed Array: [8, 7, 6, 5, 4, 3, 2, 1]\n"
     ]
    }
   ],
   "source": [
    "#Write a program to reverse an array in place? In place means you cannot create a new array. You have to update the original array.\n",
    "arr = [1, 2, 3, 4, 5, 6, 7, 8]\n",
    "\n",
    "# Reverse the array in place\n",
    "left = 0\n",
    "right = len(arr) - 1\n",
    "\n",
    "while left < right:\n",
    "    arr[left], arr[right] = arr[right], arr[left]\n",
    "    left += 1\n",
    "    right -= 1\n",
    "\n",
    "# Print the reversed array\n",
    "print(\"Reversed Array:\", arr)"
   ]
  },
  {
   "cell_type": "code",
   "execution_count": 10,
   "id": "84b66ce3",
   "metadata": {},
   "outputs": [
    {
     "name": "stdout",
     "output_type": "stream",
     "text": [
      "The strings are rotations of each other.\n"
     ]
    }
   ],
   "source": [
    "# Write a program to check if two strings are a rotation of each other?\n",
    "\n",
    "str1 = \"abcd\"\n",
    "str2 = \"cdab\"\n",
    "\n",
    "# Check if str2 is a rotation of str1\n",
    "if len(str1) == len(str2):\n",
    "    concatenated = str1 + str1\n",
    "\n",
    "    is_rotation = False\n",
    "    for i in range(len(str1)):\n",
    "        if concatenated[i:i+len(str1)] == str2:\n",
    "            is_rotation = True\n",
    "            break\n",
    "\n",
    "    if is_rotation:\n",
    "        print(\"The strings are rotations of each other.\")\n",
    "    else:\n",
    "        print(\"The strings are not rotations of each other.\")\n",
    "else:\n",
    "    print(\"The strings are not rotations of each other.\")"
   ]
  },
  {
   "cell_type": "code",
   "execution_count": 11,
   "id": "dd709a0a",
   "metadata": {},
   "outputs": [
    {
     "name": "stdout",
     "output_type": "stream",
     "text": [
      "First non-repeated character: c\n"
     ]
    }
   ],
   "source": [
    "#Write a program to print the first non-repeated character from a string?\n",
    "\n",
    "string = \"aabbcdddef\"\n",
    "\n",
    "# Find the first non-repeated character\n",
    "non_repeated_char = None\n",
    "\n",
    "for i in range(len(string)):\n",
    "    count = 0\n",
    "    for j in range(len(string)):\n",
    "        if string[i] == string[j]:\n",
    "            count += 1\n",
    "\n",
    "    if count == 1:\n",
    "        non_repeated_char = string[i]\n",
    "        break\n",
    "\n",
    "# Print the first non-repeated character\n",
    "if non_repeated_char:\n",
    "    print(\"First non-repeated character:\", non_repeated_char)\n",
    "else:\n",
    "    print(\"No non-repeated characters found.\")"
   ]
  },
  {
   "cell_type": "code",
   "execution_count": null,
   "id": "0360a8b3",
   "metadata": {},
   "outputs": [],
   "source": []
  }
 ],
 "metadata": {
  "kernelspec": {
   "display_name": "Python 3 (ipykernel)",
   "language": "python",
   "name": "python3"
  },
  "language_info": {
   "codemirror_mode": {
    "name": "ipython",
    "version": 3
   },
   "file_extension": ".py",
   "mimetype": "text/x-python",
   "name": "python",
   "nbconvert_exporter": "python",
   "pygments_lexer": "ipython3",
   "version": "3.9.13"
  }
 },
 "nbformat": 4,
 "nbformat_minor": 5
}
